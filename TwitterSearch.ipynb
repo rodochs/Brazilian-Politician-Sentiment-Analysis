{
 "cells": [
  {
   "cell_type": "code",
   "execution_count": 1,
   "id": "b362a473-0c6e-4c2e-8c36-c2931c7fb07c",
   "metadata": {},
   "outputs": [],
   "source": [
    "import tweepy\n",
    "import pandas as pd\n",
    "import numpy as np"
   ]
  },
  {
   "cell_type": "code",
   "execution_count": 2,
   "id": "d8f01c6d-025e-4c63-9bfa-7045687ef9e9",
   "metadata": {},
   "outputs": [],
   "source": [
    "client = tweepy.Client(bearer_token='REPLACE ME')"
   ]
  },
  {
   "cell_type": "code",
   "execution_count": 3,
   "id": "de3f2547-3887-4efd-b5b6-a107ad29b5dc",
   "metadata": {},
   "outputs": [
    {
     "name": "stdout",
     "output_type": "stream",
     "text": [
      "Wall time: 19.9 s\n"
     ]
    }
   ],
   "source": [
    "%%time\n",
    "\n",
    "# Replace with your own search querys\n",
    "query = ['Bolsonaro', 'Lula', 'Ciro Gomes', 'Doria']\n",
    "\n",
    "#Replace with the days you want to search\n",
    "start_day = datetime.datetime(2022, 4, 23)\n",
    "end_day = datetime.datetime(2022, 4, 23)\n",
    "\n",
    "#number of days to search\n",
    "ndays = (start_day - end_day).days\n",
    "\n",
    "tweets_df = pd.DataFrame()\n",
    "\n",
    "for q in query:\n",
    "    for i in range(ndays, -1, -1):\n",
    "        start_time = str(start_day-datetime.timedelta(days=i))[:10]+'T00:00:00Z'\n",
    "        end_time = str(start_day-datetime.timedelta(days=i))[:10]+'T23:59:59Z'   \n",
    "       \n",
    "        # Replace the limit=1000 with the maximum number of Tweets you want\n",
    "        tweets = tweepy.Paginator(client.search_recent_tweets, query=q+' -is:retweet', start_time=start_time, end_time=end_time, max_results=100).flatten(limit=1000)\n",
    "        data = pd.DataFrame(data=[[q ,start_time[:10], tweet.text] for tweet in tweets], columns=['Search','Tweet_Date','Original_Tweet'])\n",
    "        \n",
    "        tweets_df = tweets_df.append(data)\n",
    "\n",
    "for search in tweets_df['Search'].value_counts().index.values:\n",
    "    for date in tweets_df['Tweet_Date'].value_counts().index.values:\n",
    "        tweets_df[(tweets_df.Search == search) & (tweets_df.Tweet_Date == date)].to_csv('raw_data\\\\'+search+'_'+date+'_raw.csv')"
   ]
  }
 ],
 "metadata": {
  "kernelspec": {
   "display_name": "Python 3 (ipykernel)",
   "language": "python",
   "name": "python3"
  },
  "language_info": {
   "codemirror_mode": {
    "name": "ipython",
    "version": 3
   },
   "file_extension": ".py",
   "mimetype": "text/x-python",
   "name": "python",
   "nbconvert_exporter": "python",
   "pygments_lexer": "ipython3",
   "version": "3.9.7"
  }
 },
 "nbformat": 4,
 "nbformat_minor": 5
}
