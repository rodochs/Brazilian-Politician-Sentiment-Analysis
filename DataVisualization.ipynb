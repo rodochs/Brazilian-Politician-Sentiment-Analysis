{
 "cells": [
  {
   "cell_type": "code",
   "execution_count": 1,
   "id": "1eed157a-a10c-4cd4-bb47-b91f881be443",
   "metadata": {},
   "outputs": [],
   "source": [
    "import pandas as pd\n",
    "import numpy as np\n",
    "import glob\n",
    "from datetime import datetime"
   ]
  },
  {
   "cell_type": "code",
   "execution_count": 16,
   "id": "9fa31656-44d2-4873-bb2c-246e3491f0bd",
   "metadata": {},
   "outputs": [],
   "source": [
    "chart_data = pd.DataFrame(columns=['Search', 'Date', 'leia_positive_rate', 'oplexion_positive_rate', 'sentilex_positive_rate', 'textblob_positive_rate', 'mean_positive_rate'])\n",
    "    \n",
    "for file in glob.glob('clean_labeled_data\\\\*.csv'):\n",
    "    data = pd.read_csv(file)\n",
    "    chart_data = chart_data.append({'Search': data['Search'][0], \n",
    "                                    'Date': data['Tweet_Date'][0], \n",
    "                                    'leia_positive_rate': data['leia'].value_counts()['positivo'] / (data['leia'].value_counts()['positivo'] + data['leia'].value_counts()['negativo']), \n",
    "                                    'oplexion_positive_rate': data['oplexion'].value_counts()['positivo'] / (data['oplexion'].value_counts()['positivo'] + data['oplexion'].value_counts()['negativo']), \n",
    "                                    'sentilex_positive_rate': data['sentilex'].value_counts()['positivo'] / (data['sentilex'].value_counts()['positivo'] + data['sentilex'].value_counts()['negativo']), \n",
    "                                    'textblob_positive_rate': data['textblob'].value_counts()['positivo'] / (data['textblob'].value_counts()['positivo'] + data['textblob'].value_counts()['negativo'])},\n",
    "                                  ignore_index=True)\n",
    "\n",
    "chart_data['mean_positive_rate'] = (chart_data.leia_positive_rate+chart_data.oplexion_positive_rate+chart_data.sentilex_positive_rate+chart_data.textblob_positive_rate)/4\n",
    "chart_data['Date'] = pd.to_datetime(chart_data['Date'])"
   ]
  },
  {
   "cell_type": "code",
   "execution_count": 17,
   "id": "28aa46a1-a7a8-4819-ba1e-4abfd68875df",
   "metadata": {},
   "outputs": [],
   "source": [
    "lab = []\n",
    "for date_time in chart_data.Date.drop_duplicates().tolist():\n",
    "    lab.append(date_time.strftime(\"%d/%B\")) \n",
    "\n",
    "lab = 'let lab = '+str(lab)\n",
    "bolsonaro = 'let bolsonaro = '+str(chart_data[chart_data.Search == 'Bolsonaro']['mean_positive_rate'].map(lambda x: x*100).round(2).tolist())\n",
    "lula = 'let lula = '+str(chart_data[chart_data.Search == 'Lula']['mean_positive_rate'].map(lambda x: x*100).round(2).tolist())\n",
    "ciro = 'let ciro = '+str(chart_data[chart_data.Search == 'Ciro Gomes']['mean_positive_rate'].map(lambda x: x*100).round(2).tolist())\n",
    "doria = 'let doria = '+str(chart_data[chart_data.Search == 'Doria']['mean_positive_rate'].map(lambda x: x*100).round(2).tolist())\n",
    "\n",
    "arq = open(\"chart_data\\\\chart_data.txt\", \"w\")\n",
    "arq.write(lab+'\\n'+\n",
    "           bolsonaro+'\\n'+\n",
    "           lula+'\\n'+\n",
    "           ciro+'\\n'+\n",
    "           doria)\n",
    "arq.close()"
   ]
  }
 ],
 "metadata": {
  "kernelspec": {
   "display_name": "Python 3 (ipykernel)",
   "language": "python",
   "name": "python3"
  },
  "language_info": {
   "codemirror_mode": {
    "name": "ipython",
    "version": 3
   },
   "file_extension": ".py",
   "mimetype": "text/x-python",
   "name": "python",
   "nbconvert_exporter": "python",
   "pygments_lexer": "ipython3",
   "version": "3.9.7"
  }
 },
 "nbformat": 4,
 "nbformat_minor": 5
}
